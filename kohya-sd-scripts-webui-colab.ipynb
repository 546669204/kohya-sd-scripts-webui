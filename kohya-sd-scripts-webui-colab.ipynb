{
  "cells": [
    {
      "cell_type": "markdown",
      "metadata": {
        "id": "view-in-github",
        "colab_type": "text"
      },
      "source": [
        "<a href=\"https://colab.research.google.com/github/ddPn08/kohya-sd-scripts-webui/blob/main/kohya-sd-scripts-webui-colab.ipynb\" target=\"_parent\"><img src=\"https://colab.research.google.com/assets/colab-badge.svg\" alt=\"Open In Colab\"/></a>"
      ]
    },
    {
      "cell_type": "markdown",
      "source": [
        "# [kohya sd-scripts webui](https://github.com/ddPn08/kohya-sd-scripts-webui)\n",
        "\n",
        "This notebook is for running [sd-scripts](https://github.com/kohya-ss/sd-scripts) by [Kohya](https://github.com/kohya-ss).\n",
        "\n",
        "このノートブックは[Kohya](https://github.com/kohya-ss)さんによる[sd-scripts](https://github.com/kohya-ss/sd-scripts)を実行するためのものです。\n",
        "\n",
        "# Repository\n",
        "[kohya_ss/sd-scripts](https://github.com/kohya-ss/sd-scripts)"
      ],
      "metadata": {
        "id": "zSM6HuYmkYCt"
      }
    },
    {
      "cell_type": "code",
      "execution_count": null,
      "metadata": {
        "id": "zXcznGdeyb2I"
      },
      "outputs": [],
      "source": [
        "! nvidia-smi\n",
        "! nvcc -V\n",
        "! free -h"
      ]
    },
    {
      "cell_type": "code",
      "execution_count": null,
      "metadata": {
        "cellView": "form",
        "id": "tj65Tb_oyxtP"
      },
      "outputs": [],
      "source": [
        "# @markdown # Mount Google Drive\n",
        "import os\n",
        "\n",
        "mount_gdrive = True  # @param {type:\"boolean\"}\n",
        "data_dir = \"/content/data\" # @param {type:\"string\"}\n",
        "gdrive_data_dir = \"/content/drive/MyDrive/AI/kohya/webui\" # @param {type:\"string\"}\n",
        "\n",
        "if mount_gdrive:\n",
        "    from google.colab import drive\n",
        "    drive.mount('/content/drive', force_remount=False)\n",
        "    os.makedirs(gdrive_data_dir, exist_ok=False)\n",
        "    ! ln -s {gdrive_data_dir} {data_dir}\n",
        "\n",
        "os.makedirs(data_dir, exist_ok=False)"
      ]
    },
    {
      "cell_type": "code",
      "execution_count": null,
      "metadata": {
        "id": "FN7UJvSdzBFF",
        "cellView": "form"
      },
      "outputs": [],
      "source": [
        "# @markdown # Initialize environment\n",
        "\n",
        "! git clone https://github.com/ddPn08/kohya-sd-scripts-webui.git\n",
        "\n",
        "import os\n",
        "\n",
        "conda_dir = \"/opt/conda\"  # @param{type:\"string\"}\n",
        "conda_bin = os.path.join(conda_dir, \"bin\", \"conda\")\n",
        "\n",
        "if not os.path.exists(conda_bin):\n",
        "    ! curl -O https://repo.anaconda.com/miniconda/Miniconda3-latest-Linux-x86_64.sh\n",
        "    ! chmod +x Miniconda3-latest-Linux-x86_64.sh\n",
        "    ! bash ./Miniconda3-latest-Linux-x86_64.sh -b -f -p {conda_dir}\n",
        "    ! rm Miniconda3-latest-Linux-x86_64.sh\n",
        "\n",
        "def run_script(s):\n",
        "    ! {s}\n",
        "\n",
        "def make_args(d):\n",
        "    arguments = \"\"\n",
        "    for k, v in d.items():\n",
        "        if type(v) == bool:\n",
        "            arguments += f\"--{k} \" if v else \"\"\n",
        "        elif type(v) == str and v:\n",
        "            arguments += f\"--{k} \\\"{v}\\\" \"\n",
        "        elif v:\n",
        "            arguments += f\"--{k}={v} \"\n",
        "    return arguments"
      ]
    },
    {
      "cell_type": "code",
      "source": [
        "# @markdown # Run\n",
        "\n",
        "# @markdown <br>\n",
        "\n",
        "# @markdown ## Optional | Ngrok Tunnel\n",
        "# @markdown Get token from [here](https://dashboard.ngrok.com/get-started/your-authtoken)\n",
        "\n",
        "ngrok_token = \"\"  # @param {type:\"string\"}\n",
        "ngrok_region = \"us\"  # @param [\"us\", \"eu\", \"au\", \"ap\", \"sa\", \"jp\", \"in\"]\n",
        "\n",
        "arguments = {\n",
        "    \"ngrok\": ngrok_token,\n",
        "    \"ngrok-region\": ngrok_region,\n",
        "    \"share\": ngrok_token is None,\n",
        "    \"xformers\": True\n",
        "}\n",
        "\n",
        "run_script(f\"\"\"\n",
        "eval \"$({conda_bin} shell.bash hook)\"\n",
        "cd kohya-sd-scripts-webui\n",
        "bash ./webui.sh {make_args(arguments)}\n",
        "\"\"\")"
      ],
      "metadata": {
        "cellView": "form",
        "id": "uetu1lShs6aJ"
      },
      "execution_count": null,
      "outputs": []
    }
  ],
  "metadata": {
    "accelerator": "GPU",
    "colab": {
      "provenance": [],
      "include_colab_link": true
    },
    "gpuClass": "standard",
    "kernelspec": {
      "display_name": "Python 3",
      "name": "python3"
    },
    "language_info": {
      "name": "python"
    }
  },
  "nbformat": 4,
  "nbformat_minor": 0
}